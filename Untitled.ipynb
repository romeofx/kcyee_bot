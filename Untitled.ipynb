{
 "cells": [
  {
   "cell_type": "code",
   "execution_count": 1,
   "id": "9aedd8b5-2ab3-4853-ba19-7cfe0f8e2a4c",
   "metadata": {},
   "outputs": [
    {
     "name": "stdout",
     "output_type": "stream",
     "text": [
      "3c33b9082c367f399785e7ec502c5294d97beaedfe9ebb27d9bdd7bebe01327f\n"
     ]
    }
   ],
   "source": [
    "import secrets\n",
    "print(secrets.token_hex(32))  # Generates a 64-character hex string\n"
   ]
  },
  {
   "cell_type": "code",
   "execution_count": 2,
   "id": "2571de59-5412-4c59-bf8d-82bf5a45ff82",
   "metadata": {},
   "outputs": [
    {
     "name": "stdout",
     "output_type": "stream",
     "text": [
      "1.93.3\n"
     ]
    }
   ],
   "source": [
    "import openai\n",
    "print(openai.__version__)\n"
   ]
  },
  {
   "cell_type": "code",
   "execution_count": null,
   "id": "3f5e8761-f490-4cbd-b981-031916b1838d",
   "metadata": {},
   "outputs": [],
   "source": [
    "import comtypes.client as comtypes\n",
    "import comtypes.gen.word as wordfrom comtypes.client \n",
    "import CreateObject\n",
    "import osimport pdf2\n",
    "imagefrom io \n",
    "import BytesIO# \n",
    "\n",
    "Open the pdf with read-binary mode and convert PDF pages to imageswith open(\"input.pdf\", 'rb') as pdf_file:    pdf_reader = pdf2image.pdf.PdfFileReader(pdf_file)    images = []    for i in range(pdf_reader.getNumPages()):        images.append(pdf2image.convert_from_page(pdf_reader, i))# Initialize the Word applicationword_app = win32.Dispatch(\"Word.Application\")word_app.Visible = False# Create a new documentdoc = word.Document()word_app.Documents.Add(doc)# Loop through the images and add each image to a new page in the Word docfor index, image in enumerate(images):    page = doc.Sections[1].Pages[index + 1]    page.Shapes.AddPicture(BytesIO(image.save('MRT.png', 'PNG')), msoAttachmentTypePicture, True, 0, 0, page.PageWidth, page.PageHeight)# Save the Document to DOCX formatfileName = \"output.docx\"doc.SaveAs(fileName)# Close the Word applicationdoc.Close()word_app.Quit()"
   ]
  },
  {
   "cell_type": "code",
   "execution_count": 3,
   "id": "375145cc-dc48-4a16-997e-de16a90ef75a",
   "metadata": {},
   "outputs": [
    {
     "name": "stdout",
     "output_type": "stream",
     "text": [
      "Defaulting to user installation because normal site-packages is not writeable\n",
      "Collecting PyPDF2\n",
      "  Downloading pypdf2-3.0.1-py3-none-any.whl.metadata (6.8 kB)\n",
      "Collecting python-docx\n",
      "  Downloading python_docx-1.2.0-py3-none-any.whl.metadata (2.0 kB)\n",
      "Note: you may need to restart the kernel to use updated packages.\n"
     ]
    },
    {
     "name": "stderr",
     "output_type": "stream",
     "text": [
      "ERROR: Could not find a version that satisfies the requirement comoup3 (from versions: none)\n",
      "ERROR: No matching distribution found for comoup3\n",
      "\n",
      "[notice] A new release of pip is available: 24.0 -> 25.1.1\n",
      "[notice] To update, run: python.exe -m pip install --upgrade pip\n"
     ]
    }
   ],
   "source": [
    "pip install PyPDF2 python-docx comoup3"
   ]
  },
  {
   "cell_type": "code",
   "execution_count": null,
   "id": "647b0021-a595-49d0-867d-b5974814795e",
   "metadata": {},
   "outputs": [],
   "source": [
    "import PyPDF2from comoup3 import Word# Open the PDF file in binary modewith open('input.pdf', 'rb') as pdf_file:    pdf_reader = PyPDF2.PdfFileReader(pdf_file)    output = Word.Document()    # Loop through each page and add it to the Word document    for page_num in range(pdf_reader.getNumPages()):        page = pdf_reader.getPage(page_num)        text = page.getRawText(cleanup=True)        paragraph = output.add_paragraph(text)    # Save the Word document as DOCX    output.save('output.docx')"
   ]
  }
 ],
 "metadata": {
  "kernelspec": {
   "display_name": "Python 3 (ipykernel)",
   "language": "python",
   "name": "python3"
  },
  "language_info": {
   "codemirror_mode": {
    "name": "ipython",
    "version": 3
   },
   "file_extension": ".py",
   "mimetype": "text/x-python",
   "name": "python",
   "nbconvert_exporter": "python",
   "pygments_lexer": "ipython3",
   "version": "3.12.3"
  }
 },
 "nbformat": 4,
 "nbformat_minor": 5
}
