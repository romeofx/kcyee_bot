{
 "cells": [
  {
   "cell_type": "code",
   "execution_count": 1,
   "id": "9aedd8b5-2ab3-4853-ba19-7cfe0f8e2a4c",
   "metadata": {},
   "outputs": [
    {
     "name": "stdout",
     "output_type": "stream",
     "text": [
      "3c33b9082c367f399785e7ec502c5294d97beaedfe9ebb27d9bdd7bebe01327f\n"
     ]
    }
   ],
   "source": [
    "import secrets\n",
    "print(secrets.token_hex(32))  # Generates a 64-character hex string\n"
   ]
  },
  {
   "cell_type": "code",
   "execution_count": null,
   "id": "2571de59-5412-4c59-bf8d-82bf5a45ff82",
   "metadata": {},
   "outputs": [],
   "source": []
  }
 ],
 "metadata": {
  "kernelspec": {
   "display_name": "Python 3 (ipykernel)",
   "language": "python",
   "name": "python3"
  },
  "language_info": {
   "codemirror_mode": {
    "name": "ipython",
    "version": 3
   },
   "file_extension": ".py",
   "mimetype": "text/x-python",
   "name": "python",
   "nbconvert_exporter": "python",
   "pygments_lexer": "ipython3",
   "version": "3.12.3"
  }
 },
 "nbformat": 4,
 "nbformat_minor": 5
}
